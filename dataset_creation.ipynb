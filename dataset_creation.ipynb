{
 "cells": [
  {
   "cell_type": "code",
   "execution_count": 1,
   "id": "2d35bd81",
   "metadata": {},
   "outputs": [],
   "source": [
    "import pandas as pd\n",
    "import numpy as np\n",
    "\n",
    "import pickle"
   ]
  },
  {
   "cell_type": "code",
   "execution_count": 2,
   "id": "15049c6b",
   "metadata": {},
   "outputs": [],
   "source": [
    "col_interest = [\"ID\", \"ageattest\", \"Gender\", \"Country\", \n",
    "               \"weight\", \"height\", \"bmi\", \"resting_sbp\",\n",
    "                \"resting_hr\", \"waist\", \"bodyfat\", \"PhysInactive\",\n",
    "                \"ANYCVD\", \"Diabetes\", \"Asthma\", \"COPD\", \"BetaMed\",\n",
    "                \"Mode\", \"vo2_ml_kg_min\", \"max_rer\", \"peak_rpe\"]\n",
    "\n",
    "df = pd.read_excel(\"Data/FRIEND_dataset.xlsx\", usecols=col_interest)"
   ]
  },
  {
   "cell_type": "markdown",
   "id": "3129793f",
   "metadata": {},
   "source": [
    "## Filter data to what we want."
   ]
  },
  {
   "cell_type": "code",
   "execution_count": 3,
   "id": "43322a48",
   "metadata": {},
   "outputs": [],
   "source": [
    "# Keep only M/F.\n",
    "\n",
    "df.query(\"Gender == 'Male' | Gender == 'Female'\", inplace=True)\n",
    "# df.value_counts(\"Gender\")"
   ]
  },
  {
   "cell_type": "code",
   "execution_count": 4,
   "id": "cd413a59",
   "metadata": {},
   "outputs": [],
   "source": [
    "# Keep only treadmill or cycling exercise test modes.\n",
    "# (ref standards are based on these two modes only)\n",
    "\n",
    "df.query(\"Mode == 'TM' | Mode == 'CY'\", inplace=True)\n",
    "# df.value_counts(\"Mode\")"
   ]
  },
  {
   "cell_type": "code",
   "execution_count": 5,
   "id": "3140c9ff",
   "metadata": {},
   "outputs": [],
   "source": [
    "# Require RER ≥ 1.0 to indicate a maximal effort during the exercise test.\n",
    "\n",
    "df.query(\"max_rer >= 1.0\", inplace=True)"
   ]
  },
  {
   "cell_type": "code",
   "execution_count": 6,
   "id": "4069efb6",
   "metadata": {},
   "outputs": [],
   "source": [
    "# Keeping the age range somewhat reasonable.\n",
    "\n",
    "df.query(\"ageattest >= 20 & ageattest < 90\", inplace=True)"
   ]
  },
  {
   "cell_type": "markdown",
   "id": "474ad6ad",
   "metadata": {},
   "source": [
    "## Clean data."
   ]
  },
  {
   "cell_type": "code",
   "execution_count": 7,
   "id": "c8634891",
   "metadata": {},
   "outputs": [],
   "source": [
    "# Fix some data entry issues (prior to numeric conversion).\n",
    "\n",
    "df[\"PhysInactive\"] = np.where(df[\"PhysInactive\"] == \"1 (normally 0)\", 1, df[\"PhysInactive\"])\n",
    "df[\"PhysInactive\"] = np.where(df[\"PhysInactive\"] == \"na\", np.nan, df[\"PhysInactive\"])\n",
    "\n",
    "df[\"Diabetes\"] = np.where(df[\"Diabetes\"] == \"1 - type II\", 1, df[\"Diabetes\"])\n",
    "df[\"Diabetes\"] = np.where(df[\"Diabetes\"] == \"1 (Type 1)\", 1, df[\"Diabetes\"])\n",
    "\n",
    "df[\"COPD\"] = np.where(df[\"COPD\"] == \"na\", np.nan, df[\"COPD\"])\n",
    "\n",
    "df[\"Asthma\"] = np.where(df[\"Asthma\"] == \"na\", np.nan, df[\"COPD\"])\n"
   ]
  },
  {
   "cell_type": "code",
   "execution_count": 8,
   "id": "54b2e98e",
   "metadata": {},
   "outputs": [],
   "source": [
    "# Make a function to convert elements to numeric.\n",
    "\n",
    "def make_num_exception(val):\n",
    "    \"\"\"\n",
    "    Convert elements to numeric.\n",
    "    If NOT able to convert, return None but print the element value.\n",
    "    Can then go back and change as needed.\n",
    "    \"\"\"\n",
    "    try:\n",
    "        return float(val)\n",
    "    except ValueError:\n",
    "        print(\"Error found with entry: \" + val)\n",
    "        return None"
   ]
  },
  {
   "cell_type": "code",
   "execution_count": 9,
   "id": "351a7a22",
   "metadata": {},
   "outputs": [],
   "source": [
    "# Convert COPD to numeric\n",
    "\n",
    "df[\"COPD\"] = df[\"COPD\"].apply(make_num_exception)"
   ]
  },
  {
   "cell_type": "code",
   "execution_count": 10,
   "id": "cb56c6f4",
   "metadata": {},
   "outputs": [],
   "source": [
    "# Convert PhysInactive to numeric\n",
    "\n",
    "df[\"PhysInactive\"] = df[\"PhysInactive\"].apply(make_num_exception)"
   ]
  },
  {
   "cell_type": "code",
   "execution_count": 11,
   "id": "e54891d4",
   "metadata": {},
   "outputs": [],
   "source": [
    "# Convert sBP to numeric\n",
    "\n",
    "df[\"resting_sbp\"] = df[\"resting_sbp\"].apply(make_num_exception)"
   ]
  },
  {
   "cell_type": "code",
   "execution_count": 12,
   "id": "653e1fdb",
   "metadata": {},
   "outputs": [
    {
     "name": "stdout",
     "output_type": "stream",
     "text": [
      "Error found with entry: N/a\n",
      "Error found with entry: N/a\n"
     ]
    }
   ],
   "source": [
    "# Convert HR to numeric\n",
    "\n",
    "df[\"resting_hr\"] = df[\"resting_hr\"].apply(make_num_exception)"
   ]
  },
  {
   "cell_type": "code",
   "execution_count": 13,
   "id": "ab0f01d8",
   "metadata": {},
   "outputs": [],
   "source": [
    "# Convert Diabetes to numeric\n",
    "\n",
    "df[\"Diabetes\"] = df[\"Diabetes\"].apply(make_num_exception)"
   ]
  },
  {
   "cell_type": "code",
   "execution_count": 14,
   "id": "d4d6c050",
   "metadata": {},
   "outputs": [],
   "source": [
    "# Convert Asthma to numeric\n",
    "\n",
    "df[\"Asthma\"] = df[\"Asthma\"].apply(make_num_exception)"
   ]
  },
  {
   "cell_type": "code",
   "execution_count": 15,
   "id": "381fde57",
   "metadata": {},
   "outputs": [
    {
     "name": "stdout",
     "output_type": "stream",
     "text": [
      "There were: 0 0's in ageattest\n",
      "There were: 0 0's in height\n",
      "There were: 0 0's in weight\n",
      "There were: 0 0's in vo2_ml_kg_min\n",
      "There were: 0 0's in max_rer\n"
     ]
    }
   ],
   "source": [
    "# Convert those with zeroes in certain columns to missing (and print how many 0's there were).\n",
    "\n",
    "no_zeroes = [\"ageattest\", \"height\", \"weight\", \"vo2_ml_kg_min\", \"max_rer\"]\n",
    "\n",
    "for x in no_zeroes:\n",
    "    temp_ = df[x] == 0\n",
    "    print(\"There were: \" + str(temp_.sum()) + \" 0's in \" + x)    \n",
    "    df[x] = np.where(df[x] == 0, np.nan, df[x])"
   ]
  },
  {
   "cell_type": "code",
   "execution_count": 16,
   "id": "0659e420",
   "metadata": {},
   "outputs": [],
   "source": [
    "# Combine some data groups.\n",
    "\n",
    "# For this I don't care if type 1 or 2.\n",
    "df[\"Diabetes\"] = np.where(df[\"Diabetes\"] > 1, 1, df[\"Diabetes\"])\n",
    "\n",
    "df[\"COPD\"] = np.where(df[\"COPD\"] > 1, 1, df[\"COPD\"])\n",
    "\n",
    "df[\"BetaMed\"] = np.where(df[\"BetaMed\"] > 1, 1, df[\"BetaMed\"])\n",
    "\n",
    "df[\"ANYCVD\"] = np.where(df[\"ANYCVD\"] > 1, 1, df[\"ANYCVD\"])"
   ]
  },
  {
   "cell_type": "code",
   "execution_count": 17,
   "id": "f99b0f91",
   "metadata": {},
   "outputs": [],
   "source": [
    "# Convert unrealistic values to missing.\n",
    "\n",
    "df[\"waist\"] = np.where(df[\"waist\"] > 200, np.nan, df[\"waist\"])\n",
    "df[\"waist\"] = np.where(df[\"waist\"] < 40, np.nan, df[\"waist\"])\n",
    "\n",
    "df[\"bodyfat\"] = np.where(df[\"bodyfat\"] > 75, np.nan, df[\"bodyfat\"])\n",
    "\n",
    "df[\"resting_hr\"] = np.where(df[\"resting_hr\"] > 200, np.nan, df[\"resting_hr\"])\n",
    "df[\"resting_hr\"] = np.where(df[\"resting_hr\"] < 20, np.nan, df[\"resting_hr\"])\n",
    "\n",
    "df[\"resting_sbp\"] = np.where(df[\"resting_sbp\"] < 50, np.nan, df[\"resting_sbp\"])\n",
    "\n",
    "df[\"vo2_ml_kg_min\"] = np.where(df[\"vo2_ml_kg_min\"] > 99, np.nan, df[\"vo2_ml_kg_min\"])\n",
    "df[\"vo2_ml_kg_min\"] = np.where(df[\"vo2_ml_kg_min\"] < 1, np.nan, df[\"vo2_ml_kg_min\"])"
   ]
  },
  {
   "cell_type": "code",
   "execution_count": null,
   "id": "d140fad8",
   "metadata": {},
   "outputs": [],
   "source": []
  },
  {
   "cell_type": "markdown",
   "id": "fb237355",
   "metadata": {},
   "source": [
    "## Feature engineering."
   ]
  },
  {
   "cell_type": "code",
   "execution_count": 18,
   "id": "f3048175",
   "metadata": {
    "scrolled": true
   },
   "outputs": [
    {
     "data": {
      "text/plain": [
       "OK     49332\n",
       "Low    29013\n",
       "Name: fitness_category, dtype: int64"
      ]
     },
     "execution_count": 18,
     "metadata": {},
     "output_type": "execute_result"
    }
   ],
   "source": [
    "# Create the fitness categories (the target).\n",
    "# \"Low\" is defined as <20 ml/kg/min, which is roughly the fitness needed to do 1.5 stages of the Bruce protocol.\n",
    "\n",
    "df[\"fitness_category\"] = df[\"vo2_ml_kg_min\"].apply(lambda x: \"Low\" if x < 20 else \"OK\")\n",
    "\n",
    "df.fitness_category.value_counts()"
   ]
  },
  {
   "cell_type": "code",
   "execution_count": 19,
   "id": "78609b84",
   "metadata": {},
   "outputs": [
    {
     "data": {
      "text/plain": [
       "overweight       30145\n",
       "under/healthy    24836\n",
       "obese            22922\n",
       "Name: bmi_cat, dtype: int64"
      ]
     },
     "execution_count": 19,
     "metadata": {},
     "output_type": "execute_result"
    }
   ],
   "source": [
    "# Create BMI categories.\n",
    "# Combined underweight and healthy bmi due to low number of underweight (~600).\n",
    "\n",
    "bmi_bins = [0, 25, 30, 100]\n",
    "bmi_labels = [\"under/healthy\", \"overweight\", \"obese\"]\n",
    "\n",
    "df[\"bmi_cat\"] = pd.cut(df[\"bmi\"], bins=bmi_bins, labels=bmi_labels, right=False)\n",
    "\n",
    "df.bmi_cat.value_counts()"
   ]
  },
  {
   "cell_type": "code",
   "execution_count": 20,
   "id": "1ad2da3d",
   "metadata": {},
   "outputs": [
    {
     "data": {
      "text/plain": [
       "0    49128\n",
       "1    29217\n",
       "Name: hypertension, dtype: int64"
      ]
     },
     "execution_count": 20,
     "metadata": {},
     "output_type": "execute_result"
    }
   ],
   "source": [
    "# Create a hypertension category.\n",
    "# (for this project, just going to use sBP and ignore dBP cut-points)\n",
    "\n",
    "df[\"hypertension\"] = df[\"resting_sbp\"].apply(lambda x: 0 if x < 140 else 1)\n",
    "\n",
    "df.hypertension.value_counts()"
   ]
  },
  {
   "cell_type": "markdown",
   "id": "673a54a2",
   "metadata": {},
   "source": [
    "## Final filter to include those without missing values (for main variables of interest)."
   ]
  },
  {
   "cell_type": "code",
   "execution_count": 21,
   "id": "fae6a85e",
   "metadata": {},
   "outputs": [],
   "source": [
    "# Requiring these columns to all have values present.\n",
    "\n",
    "check_nan = [\"ageattest\", \"height\", \"weight\", \"vo2_ml_kg_min\", \"bmi\", \"PhysInactive\",\n",
    "            \"resting_hr\", \"resting_sbp\", \"ANYCVD\", \"Diabetes\", \"Asthma\", \"COPD\", \"BetaMed\"]"
   ]
  },
  {
   "cell_type": "code",
   "execution_count": 22,
   "id": "fcd89e8a",
   "metadata": {},
   "outputs": [],
   "source": [
    "df.dropna(axis=\"rows\", how=\"any\", subset=check_nan, inplace=True)"
   ]
  },
  {
   "cell_type": "code",
   "execution_count": 23,
   "id": "94adf700",
   "metadata": {},
   "outputs": [
    {
     "name": "stdout",
     "output_type": "stream",
     "text": [
      "<class 'pandas.core.frame.DataFrame'>\n",
      "Int64Index: 6252 entries, 3196 to 83156\n",
      "Data columns (total 24 columns):\n",
      " #   Column            Non-Null Count  Dtype   \n",
      "---  ------            --------------  -----   \n",
      " 0   ID                6225 non-null   object  \n",
      " 1   ageattest         6252 non-null   float64 \n",
      " 2   Gender            6252 non-null   object  \n",
      " 3   Country           6047 non-null   object  \n",
      " 4   height            6252 non-null   float64 \n",
      " 5   weight            6252 non-null   float64 \n",
      " 6   waist             5608 non-null   float64 \n",
      " 7   bodyfat           5872 non-null   float64 \n",
      " 8   BetaMed           6252 non-null   float64 \n",
      " 9   ANYCVD            6252 non-null   float64 \n",
      " 10  Diabetes          6252 non-null   float64 \n",
      " 11  Asthma            6252 non-null   float64 \n",
      " 12  COPD              6252 non-null   float64 \n",
      " 13  PhysInactive      6252 non-null   float64 \n",
      " 14  Mode              6252 non-null   object  \n",
      " 15  resting_hr        6252 non-null   float64 \n",
      " 16  resting_sbp       6252 non-null   float64 \n",
      " 17  max_rer           6252 non-null   float64 \n",
      " 18  vo2_ml_kg_min     6252 non-null   float64 \n",
      " 19  peak_rpe          4075 non-null   float64 \n",
      " 20  bmi               6252 non-null   float64 \n",
      " 21  fitness_category  6252 non-null   object  \n",
      " 22  bmi_cat           6252 non-null   category\n",
      " 23  hypertension      6252 non-null   int64   \n",
      "dtypes: category(1), float64(17), int64(1), object(5)\n",
      "memory usage: 1.2+ MB\n"
     ]
    }
   ],
   "source": [
    "df.info()"
   ]
  },
  {
   "cell_type": "code",
   "execution_count": 24,
   "id": "e56a6864",
   "metadata": {},
   "outputs": [],
   "source": [
    "with open('./data/cleaned_dataframe.pickle', 'wb') as to_write:\n",
    "    pickle.dump(df, to_write)"
   ]
  },
  {
   "cell_type": "code",
   "execution_count": null,
   "id": "11788a97",
   "metadata": {},
   "outputs": [],
   "source": []
  }
 ],
 "metadata": {
  "kernelspec": {
   "display_name": "Python 3",
   "language": "python",
   "name": "python3"
  },
  "language_info": {
   "codemirror_mode": {
    "name": "ipython",
    "version": 3
   },
   "file_extension": ".py",
   "mimetype": "text/x-python",
   "name": "python",
   "nbconvert_exporter": "python",
   "pygments_lexer": "ipython3",
   "version": "3.8.11"
  }
 },
 "nbformat": 4,
 "nbformat_minor": 5
}
